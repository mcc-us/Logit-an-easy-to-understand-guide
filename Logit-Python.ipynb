{
 "cells": [
  {
   "cell_type": "markdown",
   "metadata": {
    "toc": true
   },
   "source": [
    "<h1>Table of Contents<span class=\"tocSkip\"></span></h1>\n",
    "<div class=\"toc\"><ul class=\"toc-item\"><li><span><a href=\"#Equation-1:\" data-toc-modified-id=\"Equation-1:-1\"><span class=\"toc-item-num\">1&nbsp;&nbsp;</span>Equation 1:</a></span></li><li><span><a href=\"#Equation-2.\" data-toc-modified-id=\"Equation-2.-2\"><span class=\"toc-item-num\">2&nbsp;&nbsp;</span>Equation 2.</a></span></li><li><span><a href=\"#Equation-3.\" data-toc-modified-id=\"Equation-3.-3\"><span class=\"toc-item-num\">3&nbsp;&nbsp;</span>Equation 3.</a></span></li><li><span><a href=\"#Equation-4.-Calculate-Probability-of-an-event\" data-toc-modified-id=\"Equation-4.-Calculate-Probability-of-an-event-4\"><span class=\"toc-item-num\">4&nbsp;&nbsp;</span>Equation 4. Calculate Probability of an event</a></span></li><li><span><a href=\"#Equation-5.-Log-Odds-of-an-event\" data-toc-modified-id=\"Equation-5.-Log-Odds-of-an-event-5\"><span class=\"toc-item-num\">5&nbsp;&nbsp;</span>Equation 5. Log-Odds of an event</a></span></li><li><span><a href=\"#Equation-4.\" data-toc-modified-id=\"Equation-4.-6\"><span class=\"toc-item-num\">6&nbsp;&nbsp;</span>Equation 4.</a></span></li><li><span><a href=\"#Equation-5.\" data-toc-modified-id=\"Equation-5.-7\"><span class=\"toc-item-num\">7&nbsp;&nbsp;</span>Equation 5.</a></span></li></ul></div>"
   ]
  },
  {
   "attachments": {},
   "cell_type": "markdown",
   "metadata": {},
   "source": [
    "# Using Logistic Regression for Binary Classification: An Easy-To-Understand Guide\n",
    "\n",
    "by Matthew Curcio\n",
    "\n",
    "For individuals who have studied cell biology or biochemistry, logistic regression may be familiar as [dose-response curves](https://en.wikipedia.org/wiki/Dose%E2%80%93response_relationship) in clinical testing, the sigmoidal curve of [Oxgen binding to Haemoglobin](https://en.wikipedia.org/wiki/Hill_equation_(biochemistry)), [median lethal dose curve](https://en.wikipedia.org/wiki/Median_lethal_dose) drug safety or even an [exponential growth given limited resources](https://en.wikipedia.org/wiki/Logistic_function).\n",
    "\n",
    "When Data Scientists discuss Logistic Regression (Logit) it is often used as a binary classifier. But, It can help you understand an outcome or make a prediction by providing three useful pieces of information.\n",
    "\n",
    "1. Presence or Absence of a substance or quality\n",
    "2. Probability of an event\n",
    "3. Odds for or against an event\n",
    "\n",
    "In plain English, a classifier is used to define or predict **Yes:No** answers, for example: \n",
    "- Success:Failure  \n",
    "- Fraud:Safe  \n",
    "- Benign:Malignant, *or even*\n",
    "- Buy:Sell\n",
    "\n",
    "But, Logit can help answer many more questions than **Yes:No**, \n",
    "\n",
    "- What is the probability customers will leave my business?   \n",
    "- Is this transaction Fraudulent or Safe?   \n",
    "- What is the probability that an event may occur?   \n",
    "- What are the odds of being diagnosed with cancer if you smoke versus if you do not? \n",
    "\n",
    "<!--\n",
    "It can even help Data Scientists determine which factors are important for keeping your customers and the probability of an event occurring.\n",
    "-->\n",
    "\n",
    "First, let’s take an example, A graphic showing the projected world population between 1950 and 2100:\n",
    "\n",
    "![World Population between 1950-2100](assets/world-pop-1950-2100.cc.jpg)\n",
    "\n",
    "When we look at the projected world population, we see each continent is added like a stacked bar chart but now over time. Further back in time, we approach zero population of humans. In the future, we will find a maximum value, an asymptote, that will be reached.\n",
    "\n",
    "But let’s see if we can simplify this complicated s-shaped curve. \n",
    "\n",
    "If we only consider any two points on our curve, we could use a linear set of equations.\n",
    "This would make sense since each continent has its own growth rate per time ($\\beta_{continent}$) and starting population ($x_{continent}$) at $t=0$ plus a constant ($\\beta_0$).\n",
    "\n",
    "### Equation 1: \n",
    "\n",
    "Population $(t=0 → t) = \\beta_{Asia} \\cdot x_{Asia} ~+~ \\beta_{Africa} \\cdot x_{Africa} ~+~ ... ~+~ \\beta_{Oceania} \\cdot x_{Oceania} ~+~ \\beta_0$\n",
    "\n",
    "If we look at EQ1 and figure 1, we see multiplication in matrix format. A (1 row by 6 column) matrix times a (1 column by 6 row) matrix + b = Y, our population at time = t.\n",
    "\n",
    "We can rewrite this in matrix format:\n",
    "\n",
    "$$World ~ Population ~=~ \n",
    "\\left( \\begin{array}{c} Growth~Rate \\\\ \\overline{\\beta_{Oceania}} \\\\ \\beta_{S.America} \\\\ \\beta_{N.America} \\\\ \\beta_{Europe} \\\\ \\beta_{Africa} \\\\ \\beta_{Asia}  \\end{array} \\right)\n",
    "\\left( \\begin{array}{c} Population \\\\ \\overline{x_{Oceania}} \\\\ x_{S.America} \\\\ x_{N.America} \\\\ x_{Europe} \\\\ x_{Africa} \\\\ x_{Asia}  \\end{array} \\right)\n",
    "+  \\beta_0$$\n",
    "\n",
    "### Equation 2. \n",
    "\n",
    "$$Population(t=0 ~ → ~ t) = MX + b$$\n",
    "\n",
    ">NOTE: By convention capital letters represent matrices.\n",
    "\n",
    "How you may ask, can we have a linear regression fit a curved s-shaped line? \n",
    "\n",
    "- Using logs and exponents, we can transform the regression line.\n",
    "\n",
    "### Equation 3. \n",
    "\n",
    "ln(e^-(MX + b)) = MX + b\n",
    "\n",
    "### Now let’s consider a logistic curve.\n",
    "\n",
    "![A Simple Logistic Regression](assets/ps_pf_one.png)"
   ]
  },
  {
   "cell_type": "code",
   "execution_count": 1,
   "metadata": {},
   "outputs": [
    {
     "ename": "SyntaxError",
     "evalue": "unmatched '}' (3113513785.py, line 1)",
     "output_type": "error",
     "traceback": [
      "\u001b[0;36m  File \u001b[0;32m\"/tmp/ipykernel_22094/3113513785.py\"\u001b[0;36m, line \u001b[0;32m1\u001b[0m\n\u001b[0;31m    fig.align=\"center\", fig.height=3.5}\u001b[0m\n\u001b[0m                                      ^\u001b[0m\n\u001b[0;31mSyntaxError\u001b[0m\u001b[0;31m:\u001b[0m unmatched '}'\n"
     ]
    }
   ],
   "source": [
    "fig.align = \"center\", fig.height = 3.5}\n",
    "x < - seq(-6, 6, 0.05)\n",
    "y < - 1 / (1 + exp(-x))\n",
    "\n",
    "plot(x, y,\n",
    "type = \"l\",\n",
    "main = \"Logistic Curve\",\n",
    "ylim = c(-0.3, 1.3))\n",
    "abline(h = 0, col = \"blue\")\n",
    "abline(v = 0, col = \"red\", lty = 3, lwd = 3)\n",
    "abline(h = 1, col = \"blue\", lty = 3)\n",
    "text(-3.5, 0.48, cex = 1.75, \"if x < 0 then y = 0\")\n",
    "text(3.5, 0.48, cex = 1.75, \"if x >= 0 then y = 1\")\n"
   ]
  },
  {
   "cell_type": "markdown",
   "metadata": {},
   "source": [
    "1. Our x-axis can be time or any other independent value. \n",
    "2. The y-axis, we see Probability, from 0 to 1. \n",
    "\n",
    "Remember, Probabilities are only between zero chance to 100% certainty. \n",
    "\n",
    "On our simple graph, where x=0, we see an inflection point at 50% Probability. At that point, the probability of success (p) is 1/2, and the probability of failure (1-p) is also 1/2. Can we use this fact as our next transformation?\n",
    "\n",
    "### Equation 4. Calculate Probability of an event\n",
    "\n",
    "ln( Probability ) = MX + b\n",
    "\n",
    "### Equation 5. Log-Odds of an event\n",
    "\n",
    "ln(p / (1-p)) = MX + b\n",
    "\n",
    "In other words, if the Probability = 0.5 then we find the odds of our event occurring at x=0 is [(0.5) : (0.5)]. \n",
    "\n",
    "If we were flipping a coin that it would be 1:1 odds. The ln(p / (1-p)) in equation 4 is commonly called log-odds. But if we wanted just odds, we would transform using the exponent.\n",
    "\n",
    "### Equation 4. \n",
    "\n",
    "e^[ ln(p / (1-p))] = e^[MX + b]\n",
    "\n",
    "p / (1-p) = e^[MX + b]\n",
    "\n",
    "Next, We can expand our matrix multiplication to get Equation 5. \n",
    "\n",
    "### Equation 5. \n",
    "\n",
    "p / (1-p) = e^[ βAsia.XAsia + βAfrica.XAfrica +...+ βOceania.XOceania + β0 ]"
   ]
  },
  {
   "cell_type": "code",
   "execution_count": 52,
   "metadata": {},
   "outputs": [
    {
     "ename": "AttributeError",
     "evalue": "'Line2D' object has no property 'ymax'",
     "output_type": "error",
     "traceback": [
      "\u001b[0;31m---------------------------------------------------------------------------\u001b[0m",
      "\u001b[0;31mAttributeError\u001b[0m                            Traceback (most recent call last)",
      "\u001b[0;32m/tmp/ipykernel_22094/598145428.py\u001b[0m in \u001b[0;36m<module>\u001b[0;34m\u001b[0m\n\u001b[1;32m     19\u001b[0m \u001b[0;31m#plt.plot(x, y2=1, color='g')  # go=green dots\u001b[0m\u001b[0;34m\u001b[0m\u001b[0;34m\u001b[0m\u001b[0m\n\u001b[1;32m     20\u001b[0m \u001b[0;34m\u001b[0m\u001b[0m\n\u001b[0;32m---> 21\u001b[0;31m \u001b[0mplt\u001b[0m\u001b[0;34m.\u001b[0m\u001b[0maxhline\u001b[0m\u001b[0;34m(\u001b[0m\u001b[0my\u001b[0m\u001b[0;34m=\u001b[0m\u001b[0;36m0.5\u001b[0m\u001b[0;34m,\u001b[0m \u001b[0mcolor\u001b[0m\u001b[0;34m=\u001b[0m\u001b[0;34m'r'\u001b[0m\u001b[0;34m,\u001b[0m \u001b[0mymax\u001b[0m \u001b[0;34m=\u001b[0m \u001b[0;36m0.90\u001b[0m\u001b[0;34m,\u001b[0m \u001b[0mlinestyle\u001b[0m\u001b[0;34m=\u001b[0m\u001b[0;34m'-'\u001b[0m\u001b[0;34m)\u001b[0m\u001b[0;34m\u001b[0m\u001b[0;34m\u001b[0m\u001b[0m\n\u001b[0m\u001b[1;32m     22\u001b[0m \u001b[0mplt\u001b[0m\u001b[0;34m.\u001b[0m\u001b[0maxhline\u001b[0m\u001b[0;34m(\u001b[0m\u001b[0my\u001b[0m\u001b[0;34m=\u001b[0m\u001b[0;36m0\u001b[0m\u001b[0;34m,\u001b[0m \u001b[0mcolor\u001b[0m\u001b[0;34m=\u001b[0m\u001b[0;34m'b'\u001b[0m\u001b[0;34m,\u001b[0m \u001b[0mlinestyle\u001b[0m\u001b[0;34m=\u001b[0m\u001b[0;34m'-'\u001b[0m\u001b[0;34m)\u001b[0m\u001b[0;34m\u001b[0m\u001b[0;34m\u001b[0m\u001b[0m\n\u001b[1;32m     23\u001b[0m \u001b[0;31m#plt.axhline(y=1, color='b', linestyle='-')\u001b[0m\u001b[0;34m\u001b[0m\u001b[0;34m\u001b[0m\u001b[0m\n",
      "\u001b[0;32m/usr/lib/python3/dist-packages/matplotlib/pyplot.py\u001b[0m in \u001b[0;36maxhline\u001b[0;34m(y, xmin, xmax, **kwargs)\u001b[0m\n\u001b[1;32m   2347\u001b[0m \u001b[0;34m@\u001b[0m\u001b[0m_copy_docstring_and_deprecators\u001b[0m\u001b[0;34m(\u001b[0m\u001b[0mAxes\u001b[0m\u001b[0;34m.\u001b[0m\u001b[0maxhline\u001b[0m\u001b[0;34m)\u001b[0m\u001b[0;34m\u001b[0m\u001b[0;34m\u001b[0m\u001b[0m\n\u001b[1;32m   2348\u001b[0m \u001b[0;32mdef\u001b[0m \u001b[0maxhline\u001b[0m\u001b[0;34m(\u001b[0m\u001b[0my\u001b[0m\u001b[0;34m=\u001b[0m\u001b[0;36m0\u001b[0m\u001b[0;34m,\u001b[0m \u001b[0mxmin\u001b[0m\u001b[0;34m=\u001b[0m\u001b[0;36m0\u001b[0m\u001b[0;34m,\u001b[0m \u001b[0mxmax\u001b[0m\u001b[0;34m=\u001b[0m\u001b[0;36m1\u001b[0m\u001b[0;34m,\u001b[0m \u001b[0;34m**\u001b[0m\u001b[0mkwargs\u001b[0m\u001b[0;34m)\u001b[0m\u001b[0;34m:\u001b[0m\u001b[0;34m\u001b[0m\u001b[0;34m\u001b[0m\u001b[0m\n\u001b[0;32m-> 2349\u001b[0;31m     \u001b[0;32mreturn\u001b[0m \u001b[0mgca\u001b[0m\u001b[0;34m(\u001b[0m\u001b[0;34m)\u001b[0m\u001b[0;34m.\u001b[0m\u001b[0maxhline\u001b[0m\u001b[0;34m(\u001b[0m\u001b[0my\u001b[0m\u001b[0;34m=\u001b[0m\u001b[0my\u001b[0m\u001b[0;34m,\u001b[0m \u001b[0mxmin\u001b[0m\u001b[0;34m=\u001b[0m\u001b[0mxmin\u001b[0m\u001b[0;34m,\u001b[0m \u001b[0mxmax\u001b[0m\u001b[0;34m=\u001b[0m\u001b[0mxmax\u001b[0m\u001b[0;34m,\u001b[0m \u001b[0;34m**\u001b[0m\u001b[0mkwargs\u001b[0m\u001b[0;34m)\u001b[0m\u001b[0;34m\u001b[0m\u001b[0;34m\u001b[0m\u001b[0m\n\u001b[0m\u001b[1;32m   2350\u001b[0m \u001b[0;34m\u001b[0m\u001b[0m\n\u001b[1;32m   2351\u001b[0m \u001b[0;34m\u001b[0m\u001b[0m\n",
      "\u001b[0;32m/usr/lib/python3/dist-packages/matplotlib/axes/_axes.py\u001b[0m in \u001b[0;36maxhline\u001b[0;34m(self, y, xmin, xmax, **kwargs)\u001b[0m\n\u001b[1;32m    735\u001b[0m \u001b[0;34m\u001b[0m\u001b[0m\n\u001b[1;32m    736\u001b[0m         \u001b[0mtrans\u001b[0m \u001b[0;34m=\u001b[0m \u001b[0mself\u001b[0m\u001b[0;34m.\u001b[0m\u001b[0mget_yaxis_transform\u001b[0m\u001b[0;34m(\u001b[0m\u001b[0mwhich\u001b[0m\u001b[0;34m=\u001b[0m\u001b[0;34m'grid'\u001b[0m\u001b[0;34m)\u001b[0m\u001b[0;34m\u001b[0m\u001b[0;34m\u001b[0m\u001b[0m\n\u001b[0;32m--> 737\u001b[0;31m         \u001b[0ml\u001b[0m \u001b[0;34m=\u001b[0m \u001b[0mmlines\u001b[0m\u001b[0;34m.\u001b[0m\u001b[0mLine2D\u001b[0m\u001b[0;34m(\u001b[0m\u001b[0;34m[\u001b[0m\u001b[0mxmin\u001b[0m\u001b[0;34m,\u001b[0m \u001b[0mxmax\u001b[0m\u001b[0;34m]\u001b[0m\u001b[0;34m,\u001b[0m \u001b[0;34m[\u001b[0m\u001b[0my\u001b[0m\u001b[0;34m,\u001b[0m \u001b[0my\u001b[0m\u001b[0;34m]\u001b[0m\u001b[0;34m,\u001b[0m \u001b[0mtransform\u001b[0m\u001b[0;34m=\u001b[0m\u001b[0mtrans\u001b[0m\u001b[0;34m,\u001b[0m \u001b[0;34m**\u001b[0m\u001b[0mkwargs\u001b[0m\u001b[0;34m)\u001b[0m\u001b[0;34m\u001b[0m\u001b[0;34m\u001b[0m\u001b[0m\n\u001b[0m\u001b[1;32m    738\u001b[0m         \u001b[0mself\u001b[0m\u001b[0;34m.\u001b[0m\u001b[0madd_line\u001b[0m\u001b[0;34m(\u001b[0m\u001b[0ml\u001b[0m\u001b[0;34m)\u001b[0m\u001b[0;34m\u001b[0m\u001b[0;34m\u001b[0m\u001b[0m\n\u001b[1;32m    739\u001b[0m         \u001b[0mself\u001b[0m\u001b[0;34m.\u001b[0m\u001b[0m_request_autoscale_view\u001b[0m\u001b[0;34m(\u001b[0m\u001b[0mscalex\u001b[0m\u001b[0;34m=\u001b[0m\u001b[0;32mFalse\u001b[0m\u001b[0;34m,\u001b[0m \u001b[0mscaley\u001b[0m\u001b[0;34m=\u001b[0m\u001b[0mscaley\u001b[0m\u001b[0;34m)\u001b[0m\u001b[0;34m\u001b[0m\u001b[0;34m\u001b[0m\u001b[0m\n",
      "\u001b[0;32m/usr/lib/python3/dist-packages/matplotlib/lines.py\u001b[0m in \u001b[0;36m__init__\u001b[0;34m(self, xdata, ydata, linewidth, linestyle, color, marker, markersize, markeredgewidth, markeredgecolor, markerfacecolor, markerfacecoloralt, fillstyle, antialiased, dash_capstyle, solid_capstyle, dash_joinstyle, solid_joinstyle, pickradius, drawstyle, markevery, **kwargs)\u001b[0m\n\u001b[1;32m    391\u001b[0m         \u001b[0;31m# update kwargs before updating data to give the caller a\u001b[0m\u001b[0;34m\u001b[0m\u001b[0;34m\u001b[0m\u001b[0m\n\u001b[1;32m    392\u001b[0m         \u001b[0;31m# chance to init axes (and hence unit support)\u001b[0m\u001b[0;34m\u001b[0m\u001b[0;34m\u001b[0m\u001b[0m\n\u001b[0;32m--> 393\u001b[0;31m         \u001b[0mself\u001b[0m\u001b[0;34m.\u001b[0m\u001b[0mupdate\u001b[0m\u001b[0;34m(\u001b[0m\u001b[0mkwargs\u001b[0m\u001b[0;34m)\u001b[0m\u001b[0;34m\u001b[0m\u001b[0;34m\u001b[0m\u001b[0m\n\u001b[0m\u001b[1;32m    394\u001b[0m         \u001b[0mself\u001b[0m\u001b[0;34m.\u001b[0m\u001b[0mpickradius\u001b[0m \u001b[0;34m=\u001b[0m \u001b[0mpickradius\u001b[0m\u001b[0;34m\u001b[0m\u001b[0;34m\u001b[0m\u001b[0m\n\u001b[1;32m    395\u001b[0m         \u001b[0mself\u001b[0m\u001b[0;34m.\u001b[0m\u001b[0mind_offset\u001b[0m \u001b[0;34m=\u001b[0m \u001b[0;36m0\u001b[0m\u001b[0;34m\u001b[0m\u001b[0;34m\u001b[0m\u001b[0m\n",
      "\u001b[0;32m/usr/lib/python3/dist-packages/matplotlib/artist.py\u001b[0m in \u001b[0;36mupdate\u001b[0;34m(self, props)\u001b[0m\n\u001b[1;32m   1062\u001b[0m                     \u001b[0mfunc\u001b[0m \u001b[0;34m=\u001b[0m \u001b[0mgetattr\u001b[0m\u001b[0;34m(\u001b[0m\u001b[0mself\u001b[0m\u001b[0;34m,\u001b[0m \u001b[0;34mf\"set_{k}\"\u001b[0m\u001b[0;34m,\u001b[0m \u001b[0;32mNone\u001b[0m\u001b[0;34m)\u001b[0m\u001b[0;34m\u001b[0m\u001b[0;34m\u001b[0m\u001b[0m\n\u001b[1;32m   1063\u001b[0m                     \u001b[0;32mif\u001b[0m \u001b[0;32mnot\u001b[0m \u001b[0mcallable\u001b[0m\u001b[0;34m(\u001b[0m\u001b[0mfunc\u001b[0m\u001b[0;34m)\u001b[0m\u001b[0;34m:\u001b[0m\u001b[0;34m\u001b[0m\u001b[0;34m\u001b[0m\u001b[0m\n\u001b[0;32m-> 1064\u001b[0;31m                         raise AttributeError(f\"{type(self).__name__!r} object \"\n\u001b[0m\u001b[1;32m   1065\u001b[0m                                              f\"has no property {k!r}\")\n\u001b[1;32m   1066\u001b[0m                     \u001b[0mret\u001b[0m\u001b[0;34m.\u001b[0m\u001b[0mappend\u001b[0m\u001b[0;34m(\u001b[0m\u001b[0mfunc\u001b[0m\u001b[0;34m(\u001b[0m\u001b[0mv\u001b[0m\u001b[0;34m)\u001b[0m\u001b[0;34m)\u001b[0m\u001b[0;34m\u001b[0m\u001b[0;34m\u001b[0m\u001b[0m\n",
      "\u001b[0;31mAttributeError\u001b[0m: 'Line2D' object has no property 'ymax'"
     ]
    },
    {
     "data": {
      "image/png": "[encoded data removed]",
      "text/plain": [
       "<Figure size 720x504 with 1 Axes>"
      ]
     },
     "metadata": {
      "needs_background": "light"
     },
     "output_type": "display_data"
    }
   ],
   "source": [
    "import matplotlib.pyplot as plt\n",
    "import numpy as np\n",
    "import math\n",
    "#%matplotlib notebook\n",
    "%matplotlib inline\n",
    "\n",
    "x = np.linspace(-6,6,21)\n",
    "y = 1/(1+np.exp(-1*x))\n",
    "y2=1\n",
    "\n",
    "plt.figure(figsize=(10,7)) # 10 is width, 7 is height\n",
    "plt.plot(x, y, 'go')  # go=green dots\n",
    "plt.title('A Simple Logistic Curve')  \n",
    "plt.xlabel('A Dependent Variable')\n",
    "plt.ylabel('Probability')\n",
    "plt.xlim(-6,6)\n",
    "plt.ylim(-0.1,1.1)\n",
    "\n",
    "#plt.plot(x, y2=1, color='g')  # go=green dots\n",
    "\n",
    "plt.axhline(y=0.5, color='r', linestyle='-')\n",
    "plt.axhline(y=0, color='b', linestyle='-')\n",
    "plt.axhline(y=1, color='b', linestyle='-')\n",
    "\n",
    "plt.axvline(x = 0, color = 'g')\n",
    "\n",
    "plt.show()\n",
    "\n",
    "# https://liujing.neocities.org/newworld/datascience/Python/plotting/1.%20Basic%20Plotting%20with%20matplotlib"
   ]
  },
  {
   "cell_type": "markdown",
   "metadata": {},
   "source": []
  },
  {
   "attachments": {},
   "cell_type": "markdown",
   "metadata": {},
   "source": [
    "https://www.kaggle.com/code/neisha/heart-disease-prediction-using-logistic-regression"
   ]
  },
  {
   "cell_type": "code",
   "execution_count": null,
   "metadata": {},
   "outputs": [],
   "source": [
    "# Create new dataframe with selected features\n",
    "\n",
    "df = df[['SysBP','Glucose','Age','TotChol','CigsPerDay','DiaBP','PrevalenHyp','Diabetes','BPMeds','Fale','TenYearD']]"
   ]
  }
 ],
 "metadata": {
  "kernelspec": {
   "display_name": "Python 3 (ipykernel)",
   "language": "python",
   "name": "python3"
  },
  "language_info": {
   "codemirror_mode": {
    "name": "ipython",
    "version": 3
   },
   "file_extension": ".py",
   "mimetype": "text/x-python",
   "name": "python",
   "nbconvert_exporter": "python",
   "pygments_lexer": "ipython3",
   "version": "3.10.6"
  },
  "toc": {
   "base_numbering": 1,
   "nav_menu": {},
   "number_sections": true,
   "sideBar": true,
   "skip_h1_title": true,
   "title_cell": "Table of Contents",
   "title_sidebar": "Contents",
   "toc_cell": true,
   "toc_position": {},
   "toc_section_display": true,
   "toc_window_display": false
  },
  "vscode": {
   "interpreter": {
    "hash": "916dbcbb3f70747c44a77c7bcd40155683ae19c65e1c03b4aa3499c5328201f1"
   }
  }
 },
 "nbformat": 4,
 "nbformat_minor": 2
}
