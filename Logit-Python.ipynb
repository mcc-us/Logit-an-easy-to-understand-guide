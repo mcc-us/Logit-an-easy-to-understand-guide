{
 "cells": [
  {
   "cell_type": "markdown",
   "metadata": {
    "toc": true
   },
   "source": [
    "<h1>Table of Contents<span class=\"tocSkip\"></span></h1>\n",
    "<div class=\"toc\"><ul class=\"toc-item\"><li><span><a href=\"#Equation-1:\" data-toc-modified-id=\"Equation-1:-1\"><span class=\"toc-item-num\">1&nbsp;&nbsp;</span>Equation 1:</a></span></li><li><span><a href=\"#Equation-2.\" data-toc-modified-id=\"Equation-2.-2\"><span class=\"toc-item-num\">2&nbsp;&nbsp;</span>Equation 2.</a></span></li><li><span><a href=\"#Equation-3.\" data-toc-modified-id=\"Equation-3.-3\"><span class=\"toc-item-num\">3&nbsp;&nbsp;</span>Equation 3.</a></span></li><li><span><a href=\"#Equation-4.-Calculate-Probability-of-an-event\" data-toc-modified-id=\"Equation-4.-Calculate-Probability-of-an-event-4\"><span class=\"toc-item-num\">4&nbsp;&nbsp;</span>Equation 4. Calculate Probability of an event</a></span></li><li><span><a href=\"#Equation-5.-Log-Odds-of-an-event\" data-toc-modified-id=\"Equation-5.-Log-Odds-of-an-event-5\"><span class=\"toc-item-num\">5&nbsp;&nbsp;</span>Equation 5. Log-Odds of an event</a></span></li><li><span><a href=\"#Equation-4.\" data-toc-modified-id=\"Equation-4.-6\"><span class=\"toc-item-num\">6&nbsp;&nbsp;</span>Equation 4.</a></span></li><li><span><a href=\"#Equation-5.\" data-toc-modified-id=\"Equation-5.-7\"><span class=\"toc-item-num\">7&nbsp;&nbsp;</span>Equation 5.</a></span></li></ul></div>"
   ]
  },
  {
   "cell_type": "markdown",
   "metadata": {},
   "source": [
    "# Using Logistic Regression for Binary Classification: An Easy-To-Understand Guide\n",
    "\n",
    "by Matthew Curcio\n",
    "\n",
    "For individuals who have studied cell biology or biochemistry, logistic regression may be familiar as [dose-response curves](https://en.wikipedia.org/wiki/Dose%E2%80%93response_relationship) in clinical testing, the sigmoidal curve of [Oxgen binding to Haemoglobin](https://en.wikipedia.org/wiki/Hill_equation_(biochemistry)), [median lethal dose curve](https://en.wikipedia.org/wiki/Median_lethal_dose) drug safety or even an [exponential growth given limited resources](https://en.wikipedia.org/wiki/Logistic_function).\n",
    "\n",
    "When Data Scientists discuss Logistic Regression (Logit) it is often used as a binary classifier. But, It can help you understand an outcome or make a prediction by providing three useful pieces of information.\n",
    "\n",
    "1. Presence or Absence of a substance or quality\n",
    "2. Probability of an event\n",
    "3. Odds for or against an event\n",
    "\n",
    "In plain English, a classifier is used to define or predict **Yes:No** answers, **Success:Failure** or even **Fraud:Safe**.\n",
    "\n",
    "But, Logit can help answer many questions like, \n",
    "\n",
    ">Are customers going to leave my business?   \n",
    ">Is this transaction *Fraud or Safe*?   \n",
    ">What is the probability that an event may occur?   \n",
    ">What are the odds of being diagnosed with cancer if you smoke versus if you do not? \n",
    "\n",
    "<!--\n",
    "It can even help Data Scientists determine which factors are important for keeping your customers and the probability of an event occurring.\n",
    "-->\n",
    "\n",
    "Let’s take an example. A graphic of the world population over time.\n",
    "\n",
    "![World Population between 1950-2100](assets/world-pop-1950-2100.cc.jpg)\n",
    "\n",
    "When we look at the projected world population, we see each continent is added like a stacked bar chart but now over time. Further back in time, we approach a 0 zero population of humans. In the future, we will find a maximum value, an asymptote, that will be reached.\n",
    "\n",
    "But let’s see if we can simplify this complicated s-shaped curve. \n",
    "\n",
    "If we only consider any two points on our curve, we can describe it like a line or a linear set of equations.\n",
    "This would make sense since each continent has its own growth rate per time (β continent) and initial starting population (X continent) at t=0 plus some constant.\n",
    "\n",
    "### Equation 1: \n",
    "\n",
    "Population(t=0 → t) = βAsia.XAsia + βAfrica.XAfrica +...+ βOceania.XOceania + β0\n",
    "\n",
    "If we look at EQ1 and figure 1, we see multiplication in matrix format. A (1 row by 6 column) matrix times a (1 column by 6 row) matrix + b = Y, our population at time = t.\n",
    "\n",
    "### Equation 2. \n",
    "\n",
    "Population(t=0 → t) = MX + b\n",
    "\n",
    "How you may ask, can we have a linear regression fit a curved s-shaped line? \n",
    "Using logs and exponents, we can transform the regression line.\n",
    "\n",
    "### Equation 3. \n",
    "\n",
    "ln(e^-(MX + b)) = MX + b\n",
    "\n",
    "Now let’s consider a logistic curve.\n",
    "\n",
    "![A Simple Logistic Regression](assets/ps_pf_one.png)"
   ]
  },
  {
   "cell_type": "code",
   "execution_count": null,
   "metadata": {},
   "outputs": [],
   "source": [
    "fig.align=\"center\", fig.height=3.5}\n",
    "x <- seq(-6, 6, 0.05)\n",
    "y <- 1 / (1 + exp(-x))\n",
    "\n",
    "plot(x, y,\n",
    "type = \"l\",\n",
    "main = \"Logistic Curve\",\n",
    "ylim = c(-0.3, 1.3))\n",
    "abline(h = 0, col = \"blue\")\n",
    "abline(v = 0, col = \"red\", lty = 3, lwd = 3)\n",
    "abline(h = 1, col = \"blue\", lty = 3)\n",
    "text(-3.5, 0.48, cex = 1.75, \"if x < 0 then y = 0\")\n",
    "text(3.5, 0.48, cex = 1.75, \"if x >= 0 then y = 1\")\n",
    "\n"
   ]
  },
  {
   "cell_type": "markdown",
   "metadata": {},
   "source": [
    "1. Our x-axis can be time or any other independent value. \n",
    "2. The y-axis, we see Probability, from 0 to 1. \n",
    "\n",
    "Remember, Probabilities are only between zero chance to 100% certainty. \n",
    "\n",
    "On our simple graph, where x=0, we see an inflection point at 50% Probability. At that point, the probability of success (p) is 1/2, and the probability of failure (1-p) is also 1/2. Can we use this fact as our next transformation?\n",
    "\n",
    "### Equation 4. Calculate Probability of an event\n",
    "\n",
    "ln( Probability ) = MX + b\n",
    "\n",
    "### Equation 5. Log-Odds of an event\n",
    "\n",
    "ln(p / (1-p)) = MX + b\n",
    "\n",
    "In other words, if the Probability = 0.5 then we find the odds of our event occurring at x=0 is [(0.5) : (0.5)]. \n",
    "\n",
    "If we were flipping a coin that it would be 1:1 odds. The ln(p / (1-p)) in equation 4 is commonly called log-odds. But if we wanted just odds, we would transform using the exponent.\n",
    "\n",
    "### Equation 4. \n",
    "\n",
    "e^[ ln(p / (1-p))] = e^[MX + b]\n",
    "\n",
    "p / (1-p) = e^[MX + b]\n",
    "\n",
    "Next, We can expand our matrix multiplication to get Equation 5. \n",
    "\n",
    "### Equation 5. \n",
    "\n",
    "p / (1-p) = e^[ βAsia.XAsia + βAfrica.XAfrica +...+ βOceania.XOceania + β0 ]"
   ]
  },
  {
   "cell_type": "code",
   "execution_count": 2,
   "metadata": {},
   "outputs": [
    {
     "ename": "NameError",
     "evalue": "name 'numpy' is not defined",
     "output_type": "error",
     "traceback": [
      "\u001b[0;31m---------------------------------------------------------------------------\u001b[0m",
      "\u001b[0;31mNameError\u001b[0m                                 Traceback (most recent call last)",
      "\u001b[0;32m/tmp/ipykernel_10053/1498633392.py\u001b[0m in \u001b[0;36m<module>\u001b[0;34m\u001b[0m\n\u001b[1;32m      3\u001b[0m \u001b[0;32mimport\u001b[0m \u001b[0mmath\u001b[0m\u001b[0;34m\u001b[0m\u001b[0;34m\u001b[0m\u001b[0m\n\u001b[1;32m      4\u001b[0m \u001b[0;34m\u001b[0m\u001b[0m\n\u001b[0;32m----> 5\u001b[0;31m \u001b[0mx\u001b[0m \u001b[0;34m=\u001b[0m \u001b[0mnumpy\u001b[0m\u001b[0;34m.\u001b[0m\u001b[0mlinspace\u001b[0m\u001b[0;34m(\u001b[0m\u001b[0;34m-\u001b[0m\u001b[0;36m6\u001b[0m\u001b[0;34m,\u001b[0m\u001b[0;36m6\u001b[0m\u001b[0;34m,\u001b[0m \u001b[0mnum\u001b[0m\u001b[0;34m=\u001b[0m\u001b[0;36m50\u001b[0m\u001b[0;34m)\u001b[0m\u001b[0;34m\u001b[0m\u001b[0;34m\u001b[0m\u001b[0m\n\u001b[0m\u001b[1;32m      6\u001b[0m \u001b[0mm\u001b[0m\u001b[0;34m,\u001b[0m \u001b[0mb\u001b[0m \u001b[0;34m=\u001b[0m \u001b[0;34m[\u001b[0m\u001b[0;36m1\u001b[0m\u001b[0;34m,\u001b[0m \u001b[0;36m0\u001b[0m\u001b[0;34m]\u001b[0m\u001b[0;34m\u001b[0m\u001b[0;34m\u001b[0m\u001b[0m\n\u001b[1;32m      7\u001b[0m \u001b[0my\u001b[0m \u001b[0;34m=\u001b[0m \u001b[0;36m1\u001b[0m\u001b[0;34m/\u001b[0m\u001b[0;34m(\u001b[0m\u001b[0;36m1\u001b[0m \u001b[0;34m+\u001b[0m \u001b[0mnp\u001b[0m\u001b[0;34m.\u001b[0m\u001b[0mexp\u001b[0m\u001b[0;34m(\u001b[0m\u001b[0;34m-\u001b[0m\u001b[0;36m1\u001b[0m\u001b[0;34m*\u001b[0m\u001b[0;34m(\u001b[0m\u001b[0mm\u001b[0m\u001b[0;34m*\u001b[0m\u001b[0mx\u001b[0m\u001b[0;34m+\u001b[0m\u001b[0mb\u001b[0m\u001b[0;34m)\u001b[0m\u001b[0;34m)\u001b[0m\u001b[0;34m)\u001b[0m\u001b[0;34m\u001b[0m\u001b[0;34m\u001b[0m\u001b[0m\n",
      "\u001b[0;31mNameError\u001b[0m: name 'numpy' is not defined"
     ]
    }
   ],
   "source": [
    "import matplotlib.pyplot as plt\n",
    "import numpy as np\n",
    "import math\n",
    " \n",
    "x = numpy.linspace(-6,6, num=50)\n",
    "m, b = [1, 0]\n",
    "y = 1/(1 + np.exp(-1*(m*x+b)))\n",
    "\n",
    "plt.ylabel('Probability of Event')\n",
    "plt.xlabel('Independent Variable')\n",
    "pt.scatter(x, y) "
   ]
  },
  {
   "cell_type": "code",
   "execution_count": null,
   "metadata": {},
   "outputs": [],
   "source": []
  }
 ],
 "metadata": {
  "kernelspec": {
   "display_name": "Python 3 (ipykernel)",
   "language": "python",
   "name": "python3"
  },
  "language_info": {
   "codemirror_mode": {
    "name": "ipython",
    "version": 3
   },
   "file_extension": ".py",
   "mimetype": "text/x-python",
   "name": "python",
   "nbconvert_exporter": "python",
   "pygments_lexer": "ipython3",
   "version": "3.9.13"
  },
  "toc": {
   "base_numbering": 1,
   "nav_menu": {},
   "number_sections": true,
   "sideBar": true,
   "skip_h1_title": true,
   "title_cell": "Table of Contents",
   "title_sidebar": "Contents",
   "toc_cell": true,
   "toc_position": {},
   "toc_section_display": true,
   "toc_window_display": false
  },
  "vscode": {
   "interpreter": {
    "hash": "916dbcbb3f70747c44a77c7bcd40155683ae19c65e1c03b4aa3499c5328201f1"
   }
  }
 },
 "nbformat": 4,
 "nbformat_minor": 2
}
